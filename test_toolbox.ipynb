{
 "cells": [
  {
   "cell_type": "markdown",
   "metadata": {},
   "source": [
    "## PRUEBA TEAM CHALLENGE: TOOLBOX (I)"
   ]
  },
  {
   "cell_type": "markdown",
   "metadata": {},
   "source": [
    "CARGAR LA BASE DE DATOS"
   ]
  },
  {
   "cell_type": "code",
   "execution_count": 1,
   "metadata": {},
   "outputs": [
    {
     "name": "stdout",
     "output_type": "stream",
     "text": [
      "    Column Name Data Type  Null Percentage (%)  Unique Values  Cardinality (%)\n",
      "0      survived     int64             0.000000              2         0.224467\n",
      "1        pclass     int64             0.000000              3         0.336700\n",
      "2           sex    object             0.000000              2         0.224467\n",
      "3           age   float64            19.865320             88         9.876543\n",
      "4         sibsp     int64             0.000000              7         0.785634\n",
      "5         parch     int64             0.000000              7         0.785634\n",
      "6          fare   float64             0.000000            248        27.833895\n",
      "7      embarked    object             0.224467              3         0.336700\n",
      "8         class    object             0.000000              3         0.336700\n",
      "9           who    object             0.000000              3         0.336700\n",
      "10   adult_male      bool             0.000000              2         0.224467\n",
      "11         deck    object            77.216611              7         0.785634\n",
      "12  embark_town    object             0.224467              3         0.336700\n",
      "13        alive    object             0.000000              2         0.224467\n",
      "14        alone      bool             0.000000              2         0.224467\n"
     ]
    }
   ],
   "source": [
    "# Archivo de prueba: test_toolbox.ipynb\n",
    "\n",
    "import pandas as pd\n",
    "from toolbox_ML import describe_df  # Importar la función desde el módulo\n",
    "\n",
    "# Ruta del dataset Titanic\n",
    "titanic_path = r'C:\\Users\\migue\\Documents\\GitHub\\rafaneda7-Team-Challenge---Team-Frosties\\data\\titanic.csv'\n",
    "\n",
    "# Cargar el dataset\n",
    "titanic_df = pd.read_csv(titanic_path)\n",
    "\n",
    "# Crear una copia del DataFrame\n",
    "titanic_copy = titanic_df.copy()\n",
    "\n",
    "# Usar la función describe_df\n",
    "description = describe_df(titanic_copy)\n",
    "\n",
    "# Mostrar los resultados\n",
    "print(description)"
   ]
  },
  {
   "cell_type": "code",
   "execution_count": 2,
   "metadata": {},
   "outputs": [
    {
     "name": "stdout",
     "output_type": "stream",
     "text": [
      "['__builtins__', '__cached__', '__doc__', '__file__', '__loader__', '__name__', '__package__', '__spec__', 'describe_df', 'pd', 'tipifica_variables']\n"
     ]
    }
   ],
   "source": [
    "import toolbox_ML\n",
    "print(dir(toolbox_ML))"
   ]
  },
  {
   "cell_type": "code",
   "execution_count": 3,
   "metadata": {},
   "outputs": [
    {
     "name": "stdout",
     "output_type": "stream",
     "text": [
      "   nombre_variable      tipo_sugerido\n",
      "0         survived            Binaria\n",
      "1           pclass         Categórica\n",
      "2              sex            Binaria\n",
      "3              age  Numérica Discreta\n",
      "4            sibsp         Categórica\n",
      "5            parch         Categórica\n",
      "6             fare  Numérica Continua\n",
      "7         embarked         Categórica\n",
      "8            class         Categórica\n",
      "9              who         Categórica\n",
      "10      adult_male            Binaria\n",
      "11            deck         Categórica\n",
      "12     embark_town         Categórica\n",
      "13           alive            Binaria\n",
      "14           alone            Binaria\n"
     ]
    }
   ],
   "source": [
    "from toolbox_ML import tipifica_variables\n",
    "\n",
    "# Definir los umbrales\n",
    "umbral_categoria = 10\n",
    "umbral_continua = 0.1\n",
    "\n",
    "# Probar la función\n",
    "tipo_variables = tipifica_variables(titanic_copy, umbral_categoria, umbral_continua)\n",
    "print(tipo_variables)\n"
   ]
  },
  {
   "cell_type": "code",
   "execution_count": null,
   "metadata": {},
   "outputs": [],
   "source": []
  }
 ],
 "metadata": {
  "colab": {
   "name": "EDA-Intro-visualization_MatplotLib.ipynb",
   "provenance": []
  },
  "kernelspec": {
   "display_name": "Python 3",
   "language": "python",
   "name": "python3"
  },
  "language_info": {
   "codemirror_mode": {
    "name": "ipython",
    "version": 3
   },
   "file_extension": ".py",
   "mimetype": "text/x-python",
   "name": "python",
   "nbconvert_exporter": "python",
   "pygments_lexer": "ipython3",
   "version": "3.13.1"
  }
 },
 "nbformat": 4,
 "nbformat_minor": 4
}
